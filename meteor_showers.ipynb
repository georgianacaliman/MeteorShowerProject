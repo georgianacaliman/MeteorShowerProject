{
 "metadata": {
  "language_info": {
   "codemirror_mode": {
    "name": "ipython",
    "version": 3
   },
   "file_extension": ".py",
   "mimetype": "text/x-python",
   "name": "python",
   "nbconvert_exporter": "python",
   "pygments_lexer": "ipython3",
   "version": "3.8.5"
  },
  "orig_nbformat": 2,
  "kernelspec": {
   "name": "python3",
   "display_name": "Python 3.8.5 64-bit ('base': conda)",
   "metadata": {
    "interpreter": {
     "hash": "dca0ade3e726a953b501b15e8e990130d2b7799f14cfd9f4271676035ebe5511"
    }
   }
  }
 },
 "nbformat": 4,
 "nbformat_minor": 2,
 "cells": [
  {
   "cell_type": "code",
   "execution_count": null,
   "metadata": {},
   "outputs": [],
   "source": []
  },
  {
   "source": [
    "# Meteor Shower Predictions \n",
    "\n",
    "Comets, Moon phases, and place on Earth influence the observation of the meteor showers.\n",
    "\n",
    "Meteoroids can come from comets, asteroids, moons, and planets - here, the focus is on meteoroids that come from 4 popular comets.\n",
    "\n",
    "# Four Comets \n",
    "## 1. Comet Thatcher\n",
    "Comet Thatcher was first discovered in 1861. It takes 415.5 years for comet Thatcher to orbit the sun.\n",
    "\n",
    "The debris from this comet creates the Lyrids meteor shower each April. The first recorded sighting of the Lyrids meteor shower goes back to 687 BC.\n",
    "\n",
    "The Lyrids meteor shower appears to come from the direction of the constellation Lyra. But the comet and meteor shower don't actually originate from this constellation.\n",
    "\n",
    "## 2. Comet Halley\n",
    "\n",
    "Comet Halley was first discovered in 1531. However, only in 1705 was it discovered that the comet sighted in 1531, 1607, and 1682 was the same comet.\n",
    "\n",
    "Comet Halley takes 76 years to orbit the sun. The debris from this comet creates the Eta Aquarids meteor shower each May and the Orionids meteor shower each October.\n",
    "\n",
    "The Eta Aquarids meteor shower appears to come from the direction of the constellation Aquarius. The Orionids meteor shower appears to come from the direction of the constellation Orion.\n",
    "\n",
    "## 3. Comet Swift-Tuttle\n",
    "\n",
    "Comet Swift-Tuttle was first discovered in 1862. This comet takes 133 years to orbit the sun. Debris from this comet creates the Perseids meteor shower each August.\n",
    "\n",
    "It wasn't until 1865 that it was understood that this meteor shower originated from Comet Swift-Tuttle. The Perseids meteor shower appears to come from the direction of the constellation Perseus.\n",
    "\n",
    "## 4. Comet Tempel-Tuttle\n",
    "\n",
    "Comet Tempel-Tuttle was independently discovered twice, in 1865 and 1866. This comet takes 33 years to orbit the sun. Debris from this comet creates the Leonids meteor shower each November.\n",
    "\n",
    "Every 33 years, the Leonids meteor shower becomes a meteor storm. A meteor storm is when there are at least 1,000 meteors per hour. The Leonids meteor shower appears to come from the direction of the constellation Leo.\n",
    "\n",
    "# Moon phases\n",
    "\n",
    "As the Moon orbits Earth, and Earth orbits the sun, different amounts of sunlight are reflected off the Moon to Earth. Each month, the Moon cycles through different phases. The phases are basically the names we apply to how much sunlight we see reflecting off certain parts of the Moon.\n",
    "\n",
    "These are the phases of the Moon:\n",
    "\n",
    "- New Moon: Around the 15th of the month\n",
    "- Waxing crescent\n",
    "- First quarter: Around the 23rd of the month\n",
    "- Waxing gibbous\n",
    "- Full Moon: Around the 1st of the month\n",
    "- Waning gibbous\n",
    "- Third quarter: Around the 10th of the month\n",
    "- Waning crescent\n",
    "\n",
    "New Moon, first quarter, full Moon, and third quarter are the most frequently tracked phases. The phases cycle every 29 days, so the exact dates depend on the number of days in the month.\n",
    "\n",
    "\n"
   ],
   "cell_type": "markdown",
   "metadata": {}
  },
  {
   "source": [
    "# Step 1: Import & Clean Data"
   ],
   "cell_type": "markdown",
   "metadata": {}
  },
  {
   "source": [
    "## Import data science libraries"
   ],
   "cell_type": "markdown",
   "metadata": {}
  },
  {
   "cell_type": "code",
   "execution_count": 1,
   "metadata": {},
   "outputs": [],
   "source": [
    "import numpy as np\n",
    "import pandas as pd"
   ]
  },
  {
   "source": [
    "## Import & Read data"
   ],
   "cell_type": "markdown",
   "metadata": {}
  },
  {
   "source": [
    "meteor_showers = pd.read_csv('data/meteorshowers.csv')\n",
    "moon_phases = pd.read_csv('data/moonphases.csv')\n",
    "constellations = pd.read_csv('data/constellations.csv')\n",
    "cities = pd.read_csv('data/cities.csv')"
   ],
   "cell_type": "code",
   "metadata": {},
   "execution_count": 2,
   "outputs": []
  },
  {
   "source": [
    "## Check first 5 rows & info of each dataset\n",
    "\n",
    "### Meteor Showers"
   ],
   "cell_type": "markdown",
   "metadata": {}
  },
  {
   "cell_type": "code",
   "execution_count": 3,
   "metadata": {},
   "outputs": [
    {
     "output_type": "execute_result",
     "data": {
      "text/plain": [
       "           name   radiant bestmonth startmonth  startday  endmonth  endday  \\\n",
       "0        Lyrids      Lyra     april      april        21     april      22   \n",
       "1  Eta Aquarids  Aquarius       may      april        19       may      28   \n",
       "2      Orionids     Orion   october    october         2  november       7   \n",
       "3      Perseids   Perseus    august       july        14    august      24   \n",
       "4       Leonids       Leo  november   november         6  november      30   \n",
       "\n",
       "           hemisphere preferredhemisphere  \n",
       "0            northern            northern  \n",
       "1  northern, southern            southern  \n",
       "2  northern, southern  northern, southern  \n",
       "3            northern            northern  \n",
       "4  northern, southern  northern, southern  "
      ],
      "text/html": "<div>\n<style scoped>\n    .dataframe tbody tr th:only-of-type {\n        vertical-align: middle;\n    }\n\n    .dataframe tbody tr th {\n        vertical-align: top;\n    }\n\n    .dataframe thead th {\n        text-align: right;\n    }\n</style>\n<table border=\"1\" class=\"dataframe\">\n  <thead>\n    <tr style=\"text-align: right;\">\n      <th></th>\n      <th>name</th>\n      <th>radiant</th>\n      <th>bestmonth</th>\n      <th>startmonth</th>\n      <th>startday</th>\n      <th>endmonth</th>\n      <th>endday</th>\n      <th>hemisphere</th>\n      <th>preferredhemisphere</th>\n    </tr>\n  </thead>\n  <tbody>\n    <tr>\n      <th>0</th>\n      <td>Lyrids</td>\n      <td>Lyra</td>\n      <td>april</td>\n      <td>april</td>\n      <td>21</td>\n      <td>april</td>\n      <td>22</td>\n      <td>northern</td>\n      <td>northern</td>\n    </tr>\n    <tr>\n      <th>1</th>\n      <td>Eta Aquarids</td>\n      <td>Aquarius</td>\n      <td>may</td>\n      <td>april</td>\n      <td>19</td>\n      <td>may</td>\n      <td>28</td>\n      <td>northern, southern</td>\n      <td>southern</td>\n    </tr>\n    <tr>\n      <th>2</th>\n      <td>Orionids</td>\n      <td>Orion</td>\n      <td>october</td>\n      <td>october</td>\n      <td>2</td>\n      <td>november</td>\n      <td>7</td>\n      <td>northern, southern</td>\n      <td>northern, southern</td>\n    </tr>\n    <tr>\n      <th>3</th>\n      <td>Perseids</td>\n      <td>Perseus</td>\n      <td>august</td>\n      <td>july</td>\n      <td>14</td>\n      <td>august</td>\n      <td>24</td>\n      <td>northern</td>\n      <td>northern</td>\n    </tr>\n    <tr>\n      <th>4</th>\n      <td>Leonids</td>\n      <td>Leo</td>\n      <td>november</td>\n      <td>november</td>\n      <td>6</td>\n      <td>november</td>\n      <td>30</td>\n      <td>northern, southern</td>\n      <td>northern, southern</td>\n    </tr>\n  </tbody>\n</table>\n</div>"
     },
     "metadata": {},
     "execution_count": 3
    }
   ],
   "source": [
    "meteor_showers.head()\n"
   ]
  },
  {
   "cell_type": "code",
   "execution_count": 4,
   "metadata": {},
   "outputs": [
    {
     "output_type": "stream",
     "name": "stdout",
     "text": [
      "<class 'pandas.core.frame.DataFrame'>\nRangeIndex: 5 entries, 0 to 4\nData columns (total 9 columns):\n #   Column               Non-Null Count  Dtype \n---  ------               --------------  ----- \n 0   name                 5 non-null      object\n 1   radiant              5 non-null      object\n 2   bestmonth            5 non-null      object\n 3   startmonth           5 non-null      object\n 4   startday             5 non-null      int64 \n 5   endmonth             5 non-null      object\n 6   endday               5 non-null      int64 \n 7   hemisphere           5 non-null      object\n 8   preferredhemisphere  5 non-null      object\ndtypes: int64(2), object(7)\nmemory usage: 488.0+ bytes\n"
     ]
    }
   ],
   "source": [
    "meteor_showers.info()\n"
   ]
  },
  {
   "source": [
    "### Moon phases"
   ],
   "cell_type": "markdown",
   "metadata": {}
  },
  {
   "cell_type": "code",
   "execution_count": 5,
   "metadata": {},
   "outputs": [
    {
     "output_type": "execute_result",
     "data": {
      "text/plain": [
       "     month  day      moonphase specialevent\n",
       "0  january    1            NaN          NaN\n",
       "1  january    2  first quarter          NaN\n",
       "2  january    3            NaN          NaN\n",
       "3  january    4            NaN          NaN\n",
       "4  january    5            NaN          NaN"
      ],
      "text/html": "<div>\n<style scoped>\n    .dataframe tbody tr th:only-of-type {\n        vertical-align: middle;\n    }\n\n    .dataframe tbody tr th {\n        vertical-align: top;\n    }\n\n    .dataframe thead th {\n        text-align: right;\n    }\n</style>\n<table border=\"1\" class=\"dataframe\">\n  <thead>\n    <tr style=\"text-align: right;\">\n      <th></th>\n      <th>month</th>\n      <th>day</th>\n      <th>moonphase</th>\n      <th>specialevent</th>\n    </tr>\n  </thead>\n  <tbody>\n    <tr>\n      <th>0</th>\n      <td>january</td>\n      <td>1</td>\n      <td>NaN</td>\n      <td>NaN</td>\n    </tr>\n    <tr>\n      <th>1</th>\n      <td>january</td>\n      <td>2</td>\n      <td>first quarter</td>\n      <td>NaN</td>\n    </tr>\n    <tr>\n      <th>2</th>\n      <td>january</td>\n      <td>3</td>\n      <td>NaN</td>\n      <td>NaN</td>\n    </tr>\n    <tr>\n      <th>3</th>\n      <td>january</td>\n      <td>4</td>\n      <td>NaN</td>\n      <td>NaN</td>\n    </tr>\n    <tr>\n      <th>4</th>\n      <td>january</td>\n      <td>5</td>\n      <td>NaN</td>\n      <td>NaN</td>\n    </tr>\n  </tbody>\n</table>\n</div>"
     },
     "metadata": {},
     "execution_count": 5
    }
   ],
   "source": [
    "moon_phases.head()"
   ]
  },
  {
   "cell_type": "code",
   "execution_count": 6,
   "metadata": {},
   "outputs": [
    {
     "output_type": "stream",
     "name": "stdout",
     "text": [
      "<class 'pandas.core.frame.DataFrame'>\nRangeIndex: 365 entries, 0 to 364\nData columns (total 4 columns):\n #   Column        Non-Null Count  Dtype \n---  ------        --------------  ----- \n 0   month         365 non-null    object\n 1   day           365 non-null    int64 \n 2   moonphase     50 non-null     object\n 3   specialevent  10 non-null     object\ndtypes: int64(1), object(3)\nmemory usage: 11.5+ KB\n"
     ]
    }
   ],
   "source": [
    "moon_phases.info()\n"
   ]
  },
  {
   "source": [
    "### Constellations"
   ],
   "cell_type": "markdown",
   "metadata": {}
  },
  {
   "cell_type": "code",
   "execution_count": 7,
   "metadata": {},
   "outputs": [
    {
     "output_type": "execute_result",
     "data": {
      "text/plain": [
       "  constellation bestmonth  latitudestart  latitudeend besttime hemisphere\n",
       "0          Lyra    august             90          -40    21:00   northern\n",
       "1      Aquarius   october             65          -90    21:00   southern\n",
       "2         Orion   january             85          -75    21:00   northern\n",
       "3       Perseus  december             90          -35    21:00   northern\n",
       "4           Leo     april             90           65    21:00   northern"
      ],
      "text/html": "<div>\n<style scoped>\n    .dataframe tbody tr th:only-of-type {\n        vertical-align: middle;\n    }\n\n    .dataframe tbody tr th {\n        vertical-align: top;\n    }\n\n    .dataframe thead th {\n        text-align: right;\n    }\n</style>\n<table border=\"1\" class=\"dataframe\">\n  <thead>\n    <tr style=\"text-align: right;\">\n      <th></th>\n      <th>constellation</th>\n      <th>bestmonth</th>\n      <th>latitudestart</th>\n      <th>latitudeend</th>\n      <th>besttime</th>\n      <th>hemisphere</th>\n    </tr>\n  </thead>\n  <tbody>\n    <tr>\n      <th>0</th>\n      <td>Lyra</td>\n      <td>august</td>\n      <td>90</td>\n      <td>-40</td>\n      <td>21:00</td>\n      <td>northern</td>\n    </tr>\n    <tr>\n      <th>1</th>\n      <td>Aquarius</td>\n      <td>october</td>\n      <td>65</td>\n      <td>-90</td>\n      <td>21:00</td>\n      <td>southern</td>\n    </tr>\n    <tr>\n      <th>2</th>\n      <td>Orion</td>\n      <td>january</td>\n      <td>85</td>\n      <td>-75</td>\n      <td>21:00</td>\n      <td>northern</td>\n    </tr>\n    <tr>\n      <th>3</th>\n      <td>Perseus</td>\n      <td>december</td>\n      <td>90</td>\n      <td>-35</td>\n      <td>21:00</td>\n      <td>northern</td>\n    </tr>\n    <tr>\n      <th>4</th>\n      <td>Leo</td>\n      <td>april</td>\n      <td>90</td>\n      <td>65</td>\n      <td>21:00</td>\n      <td>northern</td>\n    </tr>\n  </tbody>\n</table>\n</div>"
     },
     "metadata": {},
     "execution_count": 7
    }
   ],
   "source": [
    "constellations.head()"
   ]
  },
  {
   "cell_type": "code",
   "execution_count": 8,
   "metadata": {},
   "outputs": [
    {
     "output_type": "stream",
     "name": "stdout",
     "text": [
      "<class 'pandas.core.frame.DataFrame'>\nRangeIndex: 5 entries, 0 to 4\nData columns (total 6 columns):\n #   Column         Non-Null Count  Dtype \n---  ------         --------------  ----- \n 0   constellation  5 non-null      object\n 1   bestmonth      5 non-null      object\n 2   latitudestart  5 non-null      int64 \n 3   latitudeend    5 non-null      int64 \n 4   besttime       5 non-null      object\n 5   hemisphere     5 non-null      object\ndtypes: int64(2), object(4)\nmemory usage: 368.0+ bytes\n"
     ]
    }
   ],
   "source": [
    "constellations.info()"
   ]
  },
  {
   "source": [
    "### Cities where they can be seen"
   ],
   "cell_type": "markdown",
   "metadata": {}
  },
  {
   "cell_type": "code",
   "execution_count": 9,
   "metadata": {},
   "outputs": [
    {
     "output_type": "execute_result",
     "data": {
      "text/plain": [
       "          city  latitude               country\n",
       "0    Abu Dhabi     24.47  United Arab Emirates\n",
       "1        Abuja      9.07               Nigeria\n",
       "2        Accra      5.55                 Ghana\n",
       "3    Adamstown    -25.07      Pitcairn Islands\n",
       "4  Addis Ababa      9.02              Ethiopia"
      ],
      "text/html": "<div>\n<style scoped>\n    .dataframe tbody tr th:only-of-type {\n        vertical-align: middle;\n    }\n\n    .dataframe tbody tr th {\n        vertical-align: top;\n    }\n\n    .dataframe thead th {\n        text-align: right;\n    }\n</style>\n<table border=\"1\" class=\"dataframe\">\n  <thead>\n    <tr style=\"text-align: right;\">\n      <th></th>\n      <th>city</th>\n      <th>latitude</th>\n      <th>country</th>\n    </tr>\n  </thead>\n  <tbody>\n    <tr>\n      <th>0</th>\n      <td>Abu Dhabi</td>\n      <td>24.47</td>\n      <td>United Arab Emirates</td>\n    </tr>\n    <tr>\n      <th>1</th>\n      <td>Abuja</td>\n      <td>9.07</td>\n      <td>Nigeria</td>\n    </tr>\n    <tr>\n      <th>2</th>\n      <td>Accra</td>\n      <td>5.55</td>\n      <td>Ghana</td>\n    </tr>\n    <tr>\n      <th>3</th>\n      <td>Adamstown</td>\n      <td>-25.07</td>\n      <td>Pitcairn Islands</td>\n    </tr>\n    <tr>\n      <th>4</th>\n      <td>Addis Ababa</td>\n      <td>9.02</td>\n      <td>Ethiopia</td>\n    </tr>\n  </tbody>\n</table>\n</div>"
     },
     "metadata": {},
     "execution_count": 9
    }
   ],
   "source": [
    "cities.head()"
   ]
  },
  {
   "cell_type": "code",
   "execution_count": 10,
   "metadata": {},
   "outputs": [
    {
     "output_type": "stream",
     "name": "stdout",
     "text": [
      "<class 'pandas.core.frame.DataFrame'>\nRangeIndex: 256 entries, 0 to 255\nData columns (total 3 columns):\n #   Column    Non-Null Count  Dtype  \n---  ------    --------------  -----  \n 0   city      256 non-null    object \n 1   latitude  256 non-null    float64\n 2   country   256 non-null    object \ndtypes: float64(1), object(2)\nmemory usage: 6.1+ KB\n"
     ]
    }
   ],
   "source": [
    "cities.info()"
   ]
  },
  {
   "source": [
    "## Data Wrangling"
   ],
   "cell_type": "markdown",
   "metadata": {}
  },
  {
   "cell_type": "code",
   "execution_count": 11,
   "metadata": {},
   "outputs": [],
   "source": [
    "# Convert strings to integers for months\n",
    "\n",
    "months = {'january':1, 'february':2, 'march':3, 'april':4, 'may':5, 'june':6, 'july':7, 'august':8, 'september':9, 'october':10, 'november':11, 'december':12}\n",
    "\n",
    "# Map integers to strings for months\n",
    "meteor_showers.bestmonth = meteor_showers.bestmonth.map(months)\n",
    "meteor_showers.startmonth = meteor_showers.startmonth.map(months)\n",
    "meteor_showers.endmonth = meteor_showers.endmonth.map(months)\n",
    "moon_phases.month = moon_phases.month.map(months)\n",
    "constellations.bestmonth = constellations.bestmonth.map(months)\n"
   ]
  },
  {
   "cell_type": "code",
   "execution_count": 12,
   "metadata": {},
   "outputs": [
    {
     "output_type": "execute_result",
     "data": {
      "text/plain": [
       "           name   radiant  bestmonth  startmonth  startday  endmonth  endday  \\\n",
       "0        Lyrids      Lyra          4           4        21         4      22   \n",
       "1  Eta Aquarids  Aquarius          5           4        19         5      28   \n",
       "2      Orionids     Orion         10          10         2        11       7   \n",
       "3      Perseids   Perseus          8           7        14         8      24   \n",
       "4       Leonids       Leo         11          11         6        11      30   \n",
       "\n",
       "           hemisphere preferredhemisphere  \n",
       "0            northern            northern  \n",
       "1  northern, southern            southern  \n",
       "2  northern, southern  northern, southern  \n",
       "3            northern            northern  \n",
       "4  northern, southern  northern, southern  "
      ],
      "text/html": "<div>\n<style scoped>\n    .dataframe tbody tr th:only-of-type {\n        vertical-align: middle;\n    }\n\n    .dataframe tbody tr th {\n        vertical-align: top;\n    }\n\n    .dataframe thead th {\n        text-align: right;\n    }\n</style>\n<table border=\"1\" class=\"dataframe\">\n  <thead>\n    <tr style=\"text-align: right;\">\n      <th></th>\n      <th>name</th>\n      <th>radiant</th>\n      <th>bestmonth</th>\n      <th>startmonth</th>\n      <th>startday</th>\n      <th>endmonth</th>\n      <th>endday</th>\n      <th>hemisphere</th>\n      <th>preferredhemisphere</th>\n    </tr>\n  </thead>\n  <tbody>\n    <tr>\n      <th>0</th>\n      <td>Lyrids</td>\n      <td>Lyra</td>\n      <td>4</td>\n      <td>4</td>\n      <td>21</td>\n      <td>4</td>\n      <td>22</td>\n      <td>northern</td>\n      <td>northern</td>\n    </tr>\n    <tr>\n      <th>1</th>\n      <td>Eta Aquarids</td>\n      <td>Aquarius</td>\n      <td>5</td>\n      <td>4</td>\n      <td>19</td>\n      <td>5</td>\n      <td>28</td>\n      <td>northern, southern</td>\n      <td>southern</td>\n    </tr>\n    <tr>\n      <th>2</th>\n      <td>Orionids</td>\n      <td>Orion</td>\n      <td>10</td>\n      <td>10</td>\n      <td>2</td>\n      <td>11</td>\n      <td>7</td>\n      <td>northern, southern</td>\n      <td>northern, southern</td>\n    </tr>\n    <tr>\n      <th>3</th>\n      <td>Perseids</td>\n      <td>Perseus</td>\n      <td>8</td>\n      <td>7</td>\n      <td>14</td>\n      <td>8</td>\n      <td>24</td>\n      <td>northern</td>\n      <td>northern</td>\n    </tr>\n    <tr>\n      <th>4</th>\n      <td>Leonids</td>\n      <td>Leo</td>\n      <td>11</td>\n      <td>11</td>\n      <td>6</td>\n      <td>11</td>\n      <td>30</td>\n      <td>northern, southern</td>\n      <td>northern, southern</td>\n    </tr>\n  </tbody>\n</table>\n</div>"
     },
     "metadata": {},
     "execution_count": 12
    }
   ],
   "source": [
    "# Check change\n",
    "\n",
    "meteor_showers.head()"
   ]
  },
  {
   "cell_type": "code",
   "execution_count": 13,
   "metadata": {},
   "outputs": [
    {
     "output_type": "stream",
     "name": "stdout",
     "text": [
      "<class 'pandas.core.frame.DataFrame'>\nRangeIndex: 5 entries, 0 to 4\nData columns (total 9 columns):\n #   Column               Non-Null Count  Dtype \n---  ------               --------------  ----- \n 0   name                 5 non-null      object\n 1   radiant              5 non-null      object\n 2   bestmonth            5 non-null      int64 \n 3   startmonth           5 non-null      int64 \n 4   startday             5 non-null      int64 \n 5   endmonth             5 non-null      int64 \n 6   endday               5 non-null      int64 \n 7   hemisphere           5 non-null      object\n 8   preferredhemisphere  5 non-null      object\ndtypes: int64(5), object(4)\nmemory usage: 488.0+ bytes\n"
     ]
    }
   ],
   "source": [
    "meteor_showers.info()"
   ]
  },
  {
   "cell_type": "code",
   "execution_count": 14,
   "metadata": {},
   "outputs": [],
   "source": [
    "# Converting months and days in the meteor_showers DataFrame to a type called datetime, which tracks dates\n",
    "# Creating 2 new columns startdate and enddate. These columns will contain a month and day in 2021\n",
    "\n",
    "meteor_showers['startdate'] = pd.to_datetime(2021*10000+meteor_showers.startmonth*100+meteor_showers.startday,format='%Y%m%d')\n",
    "meteor_showers['enddate'] = pd.to_datetime(2021*10000+meteor_showers.endmonth*100+meteor_showers.endday,format='%Y%m%d')"
   ]
  },
  {
   "cell_type": "code",
   "execution_count": 15,
   "metadata": {},
   "outputs": [],
   "source": [
    "# Moon phases\n",
    "\n",
    "moon_phases['date'] = pd.to_datetime(2021*10000+moon_phases.month*100+moon_phases.day,format='%Y%m%d')"
   ]
  },
  {
   "source": [
    "# Converting hemisphere data to numbers\n",
    "\n",
    "hemispheres = {'northern':0, 'southern':1, 'northern, southern':2}\n",
    "meteor_showers.hemisphere = meteor_showers.hemisphere.map(hemispheres)\n",
    "constellations.hemisphere = constellations.hemisphere.map(hemispheres)\n",
    "preferredhemispheres = {'northern':0, 'southern':1, 'northern, southern':2}\n",
    "meteor_showers.preferredhemisphere = meteor_showers.preferredhemisphere.map(preferredhemispheres)"
   ],
   "cell_type": "code",
   "metadata": {},
   "execution_count": 16,
   "outputs": []
  },
  {
   "cell_type": "code",
   "execution_count": 17,
   "metadata": {},
   "outputs": [
    {
     "output_type": "execute_result",
     "data": {
      "text/plain": [
       "           name   radiant  bestmonth  startmonth  startday  endmonth  endday  \\\n",
       "0        Lyrids      Lyra          4           4        21         4      22   \n",
       "1  Eta Aquarids  Aquarius          5           4        19         5      28   \n",
       "2      Orionids     Orion         10          10         2        11       7   \n",
       "3      Perseids   Perseus          8           7        14         8      24   \n",
       "4       Leonids       Leo         11          11         6        11      30   \n",
       "\n",
       "   hemisphere  preferredhemisphere  startdate    enddate  \n",
       "0           0                    0 2021-04-21 2021-04-22  \n",
       "1           2                    1 2021-04-19 2021-05-28  \n",
       "2           2                    2 2021-10-02 2021-11-07  \n",
       "3           0                    0 2021-07-14 2021-08-24  \n",
       "4           2                    2 2021-11-06 2021-11-30  "
      ],
      "text/html": "<div>\n<style scoped>\n    .dataframe tbody tr th:only-of-type {\n        vertical-align: middle;\n    }\n\n    .dataframe tbody tr th {\n        vertical-align: top;\n    }\n\n    .dataframe thead th {\n        text-align: right;\n    }\n</style>\n<table border=\"1\" class=\"dataframe\">\n  <thead>\n    <tr style=\"text-align: right;\">\n      <th></th>\n      <th>name</th>\n      <th>radiant</th>\n      <th>bestmonth</th>\n      <th>startmonth</th>\n      <th>startday</th>\n      <th>endmonth</th>\n      <th>endday</th>\n      <th>hemisphere</th>\n      <th>preferredhemisphere</th>\n      <th>startdate</th>\n      <th>enddate</th>\n    </tr>\n  </thead>\n  <tbody>\n    <tr>\n      <th>0</th>\n      <td>Lyrids</td>\n      <td>Lyra</td>\n      <td>4</td>\n      <td>4</td>\n      <td>21</td>\n      <td>4</td>\n      <td>22</td>\n      <td>0</td>\n      <td>0</td>\n      <td>2021-04-21</td>\n      <td>2021-04-22</td>\n    </tr>\n    <tr>\n      <th>1</th>\n      <td>Eta Aquarids</td>\n      <td>Aquarius</td>\n      <td>5</td>\n      <td>4</td>\n      <td>19</td>\n      <td>5</td>\n      <td>28</td>\n      <td>2</td>\n      <td>1</td>\n      <td>2021-04-19</td>\n      <td>2021-05-28</td>\n    </tr>\n    <tr>\n      <th>2</th>\n      <td>Orionids</td>\n      <td>Orion</td>\n      <td>10</td>\n      <td>10</td>\n      <td>2</td>\n      <td>11</td>\n      <td>7</td>\n      <td>2</td>\n      <td>2</td>\n      <td>2021-10-02</td>\n      <td>2021-11-07</td>\n    </tr>\n    <tr>\n      <th>3</th>\n      <td>Perseids</td>\n      <td>Perseus</td>\n      <td>8</td>\n      <td>7</td>\n      <td>14</td>\n      <td>8</td>\n      <td>24</td>\n      <td>0</td>\n      <td>0</td>\n      <td>2021-07-14</td>\n      <td>2021-08-24</td>\n    </tr>\n    <tr>\n      <th>4</th>\n      <td>Leonids</td>\n      <td>Leo</td>\n      <td>11</td>\n      <td>11</td>\n      <td>6</td>\n      <td>11</td>\n      <td>30</td>\n      <td>2</td>\n      <td>2</td>\n      <td>2021-11-06</td>\n      <td>2021-11-30</td>\n    </tr>\n  </tbody>\n</table>\n</div>"
     },
     "metadata": {},
     "execution_count": 17
    }
   ],
   "source": [
    "meteor_showers.head()"
   ]
  },
  {
   "cell_type": "code",
   "execution_count": 18,
   "metadata": {},
   "outputs": [
    {
     "output_type": "execute_result",
     "data": {
      "text/plain": [
       "   month  day      moonphase specialevent       date  percentage\n",
       "0      1    1            NaN          NaN 2021-01-01         NaN\n",
       "1      1    2  first quarter          NaN 2021-01-02         0.5\n",
       "2      1    3            NaN          NaN 2021-01-03         NaN\n",
       "3      1    4            NaN          NaN 2021-01-04         NaN\n",
       "4      1    5            NaN          NaN 2021-01-05         NaN"
      ],
      "text/html": "<div>\n<style scoped>\n    .dataframe tbody tr th:only-of-type {\n        vertical-align: middle;\n    }\n\n    .dataframe tbody tr th {\n        vertical-align: top;\n    }\n\n    .dataframe thead th {\n        text-align: right;\n    }\n</style>\n<table border=\"1\" class=\"dataframe\">\n  <thead>\n    <tr style=\"text-align: right;\">\n      <th></th>\n      <th>month</th>\n      <th>day</th>\n      <th>moonphase</th>\n      <th>specialevent</th>\n      <th>date</th>\n      <th>percentage</th>\n    </tr>\n  </thead>\n  <tbody>\n    <tr>\n      <th>0</th>\n      <td>1</td>\n      <td>1</td>\n      <td>NaN</td>\n      <td>NaN</td>\n      <td>2021-01-01</td>\n      <td>NaN</td>\n    </tr>\n    <tr>\n      <th>1</th>\n      <td>1</td>\n      <td>2</td>\n      <td>first quarter</td>\n      <td>NaN</td>\n      <td>2021-01-02</td>\n      <td>0.5</td>\n    </tr>\n    <tr>\n      <th>2</th>\n      <td>1</td>\n      <td>3</td>\n      <td>NaN</td>\n      <td>NaN</td>\n      <td>2021-01-03</td>\n      <td>NaN</td>\n    </tr>\n    <tr>\n      <th>3</th>\n      <td>1</td>\n      <td>4</td>\n      <td>NaN</td>\n      <td>NaN</td>\n      <td>2021-01-04</td>\n      <td>NaN</td>\n    </tr>\n    <tr>\n      <th>4</th>\n      <td>1</td>\n      <td>5</td>\n      <td>NaN</td>\n      <td>NaN</td>\n      <td>2021-01-05</td>\n      <td>NaN</td>\n    </tr>\n  </tbody>\n</table>\n</div>"
     },
     "metadata": {},
     "execution_count": 18
    }
   ],
   "source": [
    "# Converting Moon phases to numbers that represent the percentage of the Moon that's visible\n",
    "\n",
    "phases = {'new moon':0,'third quarter':0.5, 'first quarter':0.5,'full moon':1.0}\n",
    "moon_phases['percentage'] = moon_phases.moonphase.map(phases)\n",
    "moon_phases.head()"
   ]
  },
  {
   "source": [
    "## Remove unnecessary data\n"
   ],
   "cell_type": "markdown",
   "metadata": {}
  },
  {
   "cell_type": "code",
   "execution_count": 19,
   "metadata": {},
   "outputs": [],
   "source": [
    "meteor_showers = meteor_showers.drop(['startmonth', 'startday', 'endmonth', 'endday', 'hemisphere'], axis=1)"
   ]
  },
  {
   "cell_type": "code",
   "execution_count": 20,
   "metadata": {},
   "outputs": [
    {
     "output_type": "execute_result",
     "data": {
      "text/plain": [
       "           name   radiant  bestmonth  preferredhemisphere  startdate  \\\n",
       "0        Lyrids      Lyra          4                    0 2021-04-21   \n",
       "1  Eta Aquarids  Aquarius          5                    1 2021-04-19   \n",
       "2      Orionids     Orion         10                    2 2021-10-02   \n",
       "3      Perseids   Perseus          8                    0 2021-07-14   \n",
       "4       Leonids       Leo         11                    2 2021-11-06   \n",
       "\n",
       "     enddate  \n",
       "0 2021-04-22  \n",
       "1 2021-05-28  \n",
       "2 2021-11-07  \n",
       "3 2021-08-24  \n",
       "4 2021-11-30  "
      ],
      "text/html": "<div>\n<style scoped>\n    .dataframe tbody tr th:only-of-type {\n        vertical-align: middle;\n    }\n\n    .dataframe tbody tr th {\n        vertical-align: top;\n    }\n\n    .dataframe thead th {\n        text-align: right;\n    }\n</style>\n<table border=\"1\" class=\"dataframe\">\n  <thead>\n    <tr style=\"text-align: right;\">\n      <th></th>\n      <th>name</th>\n      <th>radiant</th>\n      <th>bestmonth</th>\n      <th>preferredhemisphere</th>\n      <th>startdate</th>\n      <th>enddate</th>\n    </tr>\n  </thead>\n  <tbody>\n    <tr>\n      <th>0</th>\n      <td>Lyrids</td>\n      <td>Lyra</td>\n      <td>4</td>\n      <td>0</td>\n      <td>2021-04-21</td>\n      <td>2021-04-22</td>\n    </tr>\n    <tr>\n      <th>1</th>\n      <td>Eta Aquarids</td>\n      <td>Aquarius</td>\n      <td>5</td>\n      <td>1</td>\n      <td>2021-04-19</td>\n      <td>2021-05-28</td>\n    </tr>\n    <tr>\n      <th>2</th>\n      <td>Orionids</td>\n      <td>Orion</td>\n      <td>10</td>\n      <td>2</td>\n      <td>2021-10-02</td>\n      <td>2021-11-07</td>\n    </tr>\n    <tr>\n      <th>3</th>\n      <td>Perseids</td>\n      <td>Perseus</td>\n      <td>8</td>\n      <td>0</td>\n      <td>2021-07-14</td>\n      <td>2021-08-24</td>\n    </tr>\n    <tr>\n      <th>4</th>\n      <td>Leonids</td>\n      <td>Leo</td>\n      <td>11</td>\n      <td>2</td>\n      <td>2021-11-06</td>\n      <td>2021-11-30</td>\n    </tr>\n  </tbody>\n</table>\n</div>"
     },
     "metadata": {},
     "execution_count": 20
    }
   ],
   "source": [
    "meteor_showers.head()\n"
   ]
  },
  {
   "cell_type": "code",
   "execution_count": 21,
   "metadata": {},
   "outputs": [],
   "source": [
    "moon_phases = moon_phases.drop(['month','day','specialevent'], axis=1)\n"
   ]
  },
  {
   "cell_type": "code",
   "execution_count": 22,
   "metadata": {},
   "outputs": [
    {
     "output_type": "execute_result",
     "data": {
      "text/plain": [
       "       moonphase       date  percentage\n",
       "0            NaN 2021-01-01         NaN\n",
       "1  first quarter 2021-01-02         0.5\n",
       "2            NaN 2021-01-03         NaN\n",
       "3            NaN 2021-01-04         NaN\n",
       "4            NaN 2021-01-05         NaN"
      ],
      "text/html": "<div>\n<style scoped>\n    .dataframe tbody tr th:only-of-type {\n        vertical-align: middle;\n    }\n\n    .dataframe tbody tr th {\n        vertical-align: top;\n    }\n\n    .dataframe thead th {\n        text-align: right;\n    }\n</style>\n<table border=\"1\" class=\"dataframe\">\n  <thead>\n    <tr style=\"text-align: right;\">\n      <th></th>\n      <th>moonphase</th>\n      <th>date</th>\n      <th>percentage</th>\n    </tr>\n  </thead>\n  <tbody>\n    <tr>\n      <th>0</th>\n      <td>NaN</td>\n      <td>2021-01-01</td>\n      <td>NaN</td>\n    </tr>\n    <tr>\n      <th>1</th>\n      <td>first quarter</td>\n      <td>2021-01-02</td>\n      <td>0.5</td>\n    </tr>\n    <tr>\n      <th>2</th>\n      <td>NaN</td>\n      <td>2021-01-03</td>\n      <td>NaN</td>\n    </tr>\n    <tr>\n      <th>3</th>\n      <td>NaN</td>\n      <td>2021-01-04</td>\n      <td>NaN</td>\n    </tr>\n    <tr>\n      <th>4</th>\n      <td>NaN</td>\n      <td>2021-01-05</td>\n      <td>NaN</td>\n    </tr>\n  </tbody>\n</table>\n</div>"
     },
     "metadata": {},
     "execution_count": 22
    }
   ],
   "source": [
    "moon_phases.head()"
   ]
  },
  {
   "cell_type": "code",
   "execution_count": 23,
   "metadata": {},
   "outputs": [],
   "source": [
    "constellations = constellations.drop(['besttime'], axis=1)"
   ]
  },
  {
   "cell_type": "code",
   "execution_count": 24,
   "metadata": {},
   "outputs": [
    {
     "output_type": "execute_result",
     "data": {
      "text/plain": [
       "  constellation  bestmonth  latitudestart  latitudeend  hemisphere\n",
       "0          Lyra          8             90          -40           0\n",
       "1      Aquarius         10             65          -90           1\n",
       "2         Orion          1             85          -75           0\n",
       "3       Perseus         12             90          -35           0\n",
       "4           Leo          4             90           65           0"
      ],
      "text/html": "<div>\n<style scoped>\n    .dataframe tbody tr th:only-of-type {\n        vertical-align: middle;\n    }\n\n    .dataframe tbody tr th {\n        vertical-align: top;\n    }\n\n    .dataframe thead th {\n        text-align: right;\n    }\n</style>\n<table border=\"1\" class=\"dataframe\">\n  <thead>\n    <tr style=\"text-align: right;\">\n      <th></th>\n      <th>constellation</th>\n      <th>bestmonth</th>\n      <th>latitudestart</th>\n      <th>latitudeend</th>\n      <th>hemisphere</th>\n    </tr>\n  </thead>\n  <tbody>\n    <tr>\n      <th>0</th>\n      <td>Lyra</td>\n      <td>8</td>\n      <td>90</td>\n      <td>-40</td>\n      <td>0</td>\n    </tr>\n    <tr>\n      <th>1</th>\n      <td>Aquarius</td>\n      <td>10</td>\n      <td>65</td>\n      <td>-90</td>\n      <td>1</td>\n    </tr>\n    <tr>\n      <th>2</th>\n      <td>Orion</td>\n      <td>1</td>\n      <td>85</td>\n      <td>-75</td>\n      <td>0</td>\n    </tr>\n    <tr>\n      <th>3</th>\n      <td>Perseus</td>\n      <td>12</td>\n      <td>90</td>\n      <td>-35</td>\n      <td>0</td>\n    </tr>\n    <tr>\n      <th>4</th>\n      <td>Leo</td>\n      <td>4</td>\n      <td>90</td>\n      <td>65</td>\n      <td>0</td>\n    </tr>\n  </tbody>\n</table>\n</div>"
     },
     "metadata": {},
     "execution_count": 24
    }
   ],
   "source": [
    "constellations.head()"
   ]
  },
  {
   "source": [
    "## Fill in missing data\n",
    "\n",
    "In Moon Phases, make every value between 0 and 0.5 be 0.25, and every value between 0.5 and 1 be 0.75."
   ],
   "cell_type": "markdown",
   "metadata": {}
  },
  {
   "cell_type": "code",
   "execution_count": 25,
   "metadata": {},
   "outputs": [
    {
     "output_type": "execute_result",
     "data": {
      "text/plain": [
       "       moonphase       date  percentage\n",
       "0            NaN 2021-01-01         NaN\n",
       "1  first quarter 2021-01-02         0.5\n",
       "2            NaN 2021-01-03         NaN\n",
       "3            NaN 2021-01-04         NaN\n",
       "4            NaN 2021-01-05         NaN"
      ],
      "text/html": "<div>\n<style scoped>\n    .dataframe tbody tr th:only-of-type {\n        vertical-align: middle;\n    }\n\n    .dataframe tbody tr th {\n        vertical-align: top;\n    }\n\n    .dataframe thead th {\n        text-align: right;\n    }\n</style>\n<table border=\"1\" class=\"dataframe\">\n  <thead>\n    <tr style=\"text-align: right;\">\n      <th></th>\n      <th>moonphase</th>\n      <th>date</th>\n      <th>percentage</th>\n    </tr>\n  </thead>\n  <tbody>\n    <tr>\n      <th>0</th>\n      <td>NaN</td>\n      <td>2021-01-01</td>\n      <td>NaN</td>\n    </tr>\n    <tr>\n      <th>1</th>\n      <td>first quarter</td>\n      <td>2021-01-02</td>\n      <td>0.5</td>\n    </tr>\n    <tr>\n      <th>2</th>\n      <td>NaN</td>\n      <td>2021-01-03</td>\n      <td>NaN</td>\n    </tr>\n    <tr>\n      <th>3</th>\n      <td>NaN</td>\n      <td>2021-01-04</td>\n      <td>NaN</td>\n    </tr>\n    <tr>\n      <th>4</th>\n      <td>NaN</td>\n      <td>2021-01-05</td>\n      <td>NaN</td>\n    </tr>\n  </tbody>\n</table>\n</div>"
     },
     "metadata": {},
     "execution_count": 25
    }
   ],
   "source": [
    "moon_phases.head()"
   ]
  },
  {
   "source": [
    "lastPhase = 0\n",
    "\n",
    "for index, row in moon_phases.iterrows():\n",
    "    if pd.isnull(row['percentage']):\n",
    "        moon_phases.at[index,'percentage'] = lastPhase\n",
    "    else:\n",
    "        lastPhase = row['percentage']\n",
    "\n",
    "moon_phases.info()"
   ],
   "cell_type": "code",
   "metadata": {},
   "execution_count": 26,
   "outputs": [
    {
     "output_type": "stream",
     "name": "stdout",
     "text": [
      "<class 'pandas.core.frame.DataFrame'>\nRangeIndex: 365 entries, 0 to 364\nData columns (total 3 columns):\n #   Column      Non-Null Count  Dtype         \n---  ------      --------------  -----         \n 0   moonphase   50 non-null     object        \n 1   date        365 non-null    datetime64[ns]\n 2   percentage  365 non-null    float64       \ndtypes: datetime64[ns](1), float64(1), object(1)\nmemory usage: 8.7+ KB\n"
     ]
    }
   ]
  },
  {
   "source": [
    "# Step 2: Analyze Data\n",
    "## Predicting the date of a meteor shower, in a given city"
   ],
   "cell_type": "markdown",
   "metadata": {}
  },
  {
   "cell_type": "code",
   "execution_count": 27,
   "metadata": {},
   "outputs": [
    {
     "output_type": "stream",
     "name": "stdout",
     "text": [
      "<class 'pandas.core.frame.DataFrame'>\nRangeIndex: 5 entries, 0 to 4\nData columns (total 6 columns):\n #   Column               Non-Null Count  Dtype         \n---  ------               --------------  -----         \n 0   name                 5 non-null      object        \n 1   radiant              5 non-null      object        \n 2   bestmonth            5 non-null      int64         \n 3   preferredhemisphere  5 non-null      int64         \n 4   startdate            5 non-null      datetime64[ns]\n 5   enddate              5 non-null      datetime64[ns]\ndtypes: datetime64[ns](2), int64(2), object(2)\nmemory usage: 368.0+ bytes\n"
     ]
    }
   ],
   "source": [
    "meteor_showers.info()"
   ]
  },
  {
   "cell_type": "code",
   "execution_count": 28,
   "metadata": {},
   "outputs": [
    {
     "output_type": "stream",
     "name": "stdout",
     "text": [
      "<class 'pandas.core.frame.DataFrame'>\nRangeIndex: 365 entries, 0 to 364\nData columns (total 3 columns):\n #   Column      Non-Null Count  Dtype         \n---  ------      --------------  -----         \n 0   moonphase   50 non-null     object        \n 1   date        365 non-null    datetime64[ns]\n 2   percentage  365 non-null    float64       \ndtypes: datetime64[ns](1), float64(1), object(1)\nmemory usage: 8.7+ KB\n"
     ]
    }
   ],
   "source": [
    "moon_phases.info()"
   ]
  },
  {
   "cell_type": "code",
   "execution_count": 29,
   "metadata": {},
   "outputs": [
    {
     "output_type": "stream",
     "name": "stdout",
     "text": [
      "<class 'pandas.core.frame.DataFrame'>\nRangeIndex: 256 entries, 0 to 255\nData columns (total 3 columns):\n #   Column    Non-Null Count  Dtype  \n---  ------    --------------  -----  \n 0   city      256 non-null    object \n 1   latitude  256 non-null    float64\n 2   country   256 non-null    object \ndtypes: float64(1), object(2)\nmemory usage: 6.1+ KB\n"
     ]
    }
   ],
   "source": [
    "cities.info()"
   ]
  },
  {
   "source": [
    "## Steps\n",
    "\n",
    "### The function will:\n",
    "1. Determine the latitude of a city.\n",
    "2. Use that latitude to figure out which constellations are visible to that city.\n",
    "3. Use the constellations to determine which meteor showers are visible to that city.\n",
    "4. Use the meteor showers to determine the dates that they're visible.\n",
    "5. Use the dates to find the optimal date that has the least amount of light from the Moon.\n"
   ],
   "cell_type": "markdown",
   "metadata": {}
  },
  {
   "cell_type": "code",
   "execution_count": 30,
   "metadata": {},
   "outputs": [],
   "source": [
    "# Create a function called predict_best_meteor_shower_viewing that takes in a city as a parameter\n",
    "\n",
    "def predict_best_meteor_shower_viewing(city):\n",
    "    # Create an empty string to return the message back to the user\n",
    "    meteor_shower_string = \"\"\n",
    "\n",
    "    if city not in cities.values:\n",
    "        meteor_shower_string = \"Unfortunately, \" + city + \" isn't available for a prediction. Try a capital city.\"\n",
    "        return meteor_shower_string\n",
    "\n",
    "    # Get the latitude of the city from the cities DataFrame\n",
    "    latitude = cities.loc[cities['city'] == city, 'latitude'].iloc[0]\n",
    "\n",
    "    # Get the list of constellations that are viewable from that latitude\n",
    "    constellation_list = constellations.loc[(constellations['latitudestart'] >= latitude) & (constellations['latitudeend'] <= latitude), 'constellation'].tolist()\n",
    "\n",
    "    # If no constellations are viewable, let the user know\n",
    "    if not constellation_list:\n",
    "        meteor_shower_string = \"Unfortunately, there are no meteor showers viewable from \"+ city + \".\"\n",
    "\n",
    "        return meteor_shower_string\n",
    "    \n",
    "    meteor_shower_string = \"In \" + city + \", you can see the following meteor showers:\\n\"\n",
    "\n",
    "# Iterate through each constellation that is viewable from the city\n",
    "    for constellation in constellation_list:\n",
    "        # Find the meteor shower that is nearest to that constellation\n",
    "        meteor_shower = meteor_showers.loc[meteor_showers['radiant'] == constellation, 'name'].iloc[0] \n",
    "        # Find the start and end dates for that meteor shower\n",
    "        meteor_shower_startdate = meteor_showers.loc[meteor_showers['radiant'] == constellation, 'startdate'].iloc[0]\n",
    "        meteor_shower_enddate = meteor_showers.loc[meteor_showers['radiant'] == constellation, 'enddate'].iloc[0]\n",
    "\n",
    "        # Find the Moon phases for each date within the viewable time frame of that meteor shower\n",
    "        moon_phases_list = moon_phases.loc[(moon_phases['date'] >= meteor_shower_startdate) & (moon_phases['date'] <= meteor_shower_enddate)]\n",
    "        \n",
    "        # Find the first date where the Moon is the least visible\n",
    "        best_moon_date = moon_phases_list.loc[moon_phases_list['percentage'].idxmin()]['date']\n",
    "\n",
    "        # Add that date to the string to report back to the user\n",
    "        # Convert the date to a pydatetime and then into a string\n",
    "        meteor_shower_string += meteor_shower + \" is best seen if you look towards the \" + constellation + \" constellation on \" +  best_moon_date.to_pydatetime().strftime(\"%B %d, %Y\") + \".\\n\"\n",
    "        \n",
    "    return meteor_shower_string"
   ]
  },
  {
   "cell_type": "code",
   "execution_count": 31,
   "metadata": {},
   "outputs": [
    {
     "output_type": "stream",
     "name": "stdout",
     "text": [
      "In Bucharest, you can see the following meteor showers:\nLyrids is best seen if you look towards the Lyra constellation on April 22, 2021.\nEta Aquarids is best seen if you look towards the Aquarius constellation on April 22, 2021.\nOrionids is best seen if you look towards the Orion constellation on October 16, 2021.\nPerseids is best seen if you look towards the Perseus constellation on July 20, 2021.\n\n"
     ]
    }
   ],
   "source": [
    "print(predict_best_meteor_shower_viewing('Bucharest'))"
   ]
  },
  {
   "cell_type": "code",
   "execution_count": null,
   "metadata": {},
   "outputs": [],
   "source": []
  }
 ]
}